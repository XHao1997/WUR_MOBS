{
 "cells": [
  {
   "cell_type": "code",
   "execution_count": 1,
   "id": "4fdb7593",
   "metadata": {},
   "outputs": [
    {
     "ename": "ModuleNotFoundError",
     "evalue": "No module named 'mbps'",
     "output_type": "error",
     "traceback": [
      "\u001b[1;31m---------------------------------------------------------------------------\u001b[0m",
      "\u001b[1;31mModuleNotFoundError\u001b[0m                       Traceback (most recent call last)",
      "Cell \u001b[1;32mIn[1], line 23\u001b[0m\n\u001b[0;32m     21\u001b[0m \u001b[38;5;28;01mimport\u001b[39;00m \u001b[38;5;21;01mmatplotlib\u001b[39;00m\u001b[38;5;21;01m.\u001b[39;00m\u001b[38;5;21;01mpyplot\u001b[39;00m \u001b[38;5;28;01mas\u001b[39;00m \u001b[38;5;21;01mplt\u001b[39;00m\n\u001b[0;32m     22\u001b[0m \u001b[38;5;66;03m# Import our own functions\u001b[39;00m\n\u001b[1;32m---> 23\u001b[0m \u001b[38;5;28;01mfrom\u001b[39;00m \u001b[38;5;21;01mmbps\u001b[39;00m\u001b[38;5;21;01m.\u001b[39;00m\u001b[38;5;21;01mmodels\u001b[39;00m\u001b[38;5;21;01m.\u001b[39;00m\u001b[38;5;21;01mlog_growth\u001b[39;00m \u001b[38;5;28;01mimport\u001b[39;00m LogisticGrowth\n",
      "\u001b[1;31mModuleNotFoundError\u001b[0m: No module named 'mbps'"
     ]
    }
   ],
   "source": [
    "\"\"\"\"FTE34806 - Modelling of Biobased Production Systems\n",
    "MSc Biosystems Engineering, WUR\n",
    "@authors:   Daniel Reyes Lastiri, Stefan Maranus,\n",
    "            Rachel van Ooteghem, Tim Hoogstad\n",
    "\n",
    "Tutorial for the logistic growth model\n",
    "\n",
    "This comment section is required for the beginning of any Python file.\n",
    "It provides a general description of the file's contents.\n",
    "\"\"\"\n",
    "\n",
    "''' Explanation\n",
    "Comment sections are created with triple quotation marks.\n",
    "In the course, we use these sections to explain details of the code.\n",
    "The script file starts by importing the functions used in the file.\n",
    "We suggest to import first Python functions, then import our own functions.\n",
    "'''\n",
    "\n",
    "# Import Python functions\n",
    "import numpy as np\n",
    "import matplotlib.pyplot as plt\n",
    "# Import our own functions\n",
    "from mbps.models.log_growth import LogisticGrowth"
   ]
  },
  {
   "cell_type": "code",
   "execution_count": null,
   "id": "df40cfcb",
   "metadata": {},
   "outputs": [],
   "source": [
    "# Simulation time array\n",
    "\n",
    "# TODO: Define the array for simulation time, using the function 'linspace'.\n",
    "# The array ranges from 0 to 10, with a step size of 1.0 [d].\n",
    "# How many elements should this array have?\n",
    "tsim = np.linspace(???, ???, ???)   # [d]\n",
    "\n",
    "# Initialize model object\n",
    "\n",
    "# TODO: Define the following variables:\n",
    "    # model integration time step size of 1.0 [d]\n",
    "    # dictionary of initial conditions for m = 1.0 [gDM m-2]\n",
    "    # dictionary of parameters for r = 1.2 [d-1] and K = 100 [gDM m-2]\n",
    "dt = ???                # [d] time-step size\n",
    "x0 = {??? : ???}        # [gDM m-2] initial conditions\n",
    "p = {???:???, ???:???}   # [d-1], [gDM m-2] model parameters\n",
    "lg = LogisticGrowth(tsim,dt,x0,p)\n",
    "\n",
    "# Run model\n",
    "tspan = (tsim[0],tsim[-1])\n",
    "y = lg.run(tspan)\n",
    "\n",
    "# Plot results\n",
    "plt.figure(1)\n",
    "plt.plot(y['t'], y['m'])\n",
    "plt.xlabel(r'$time\\ [d]$')\n",
    "plt.ylabel(r'$mass\\ [gDM\\ m^{-2}]$')"
   ]
  }
 ],
 "metadata": {
  "kernelspec": {
   "display_name": "Python 3 (ipykernel)",
   "language": "python",
   "name": "python3"
  },
  "language_info": {
   "codemirror_mode": {
    "name": "ipython",
    "version": 3
   },
   "file_extension": ".py",
   "mimetype": "text/x-python",
   "name": "python",
   "nbconvert_exporter": "python",
   "pygments_lexer": "ipython3",
   "version": "3.8.18"
  }
 },
 "nbformat": 4,
 "nbformat_minor": 5
}
